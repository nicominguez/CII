{
 "cells": [
  {
   "cell_type": "code",
   "execution_count": null,
   "id": "9a333454",
   "metadata": {
    "vscode": {
     "languageId": "plaintext"
    }
   },
   "outputs": [],
   "source": [
    "import csv\n",
    "import numpy as np\n",
    "\n",
    "var('x,y')\n",
    "def f(x,y):\n",
    "    return x^2/(x^2+y^2)\n",
    "\n",
    "x_vals = np.linspace(-5, 5, 100)\n",
    "y_vals = np.linspace(-5, 5, 100)\n",
    "z = for\n",
    "\n",
    "with open('surface_data.csv', 'w', newline='') as csvfile:\n",
    "    writer = csv.writer(csvfile)\n",
    "    writer.writerow(['x', 'y', f(x,y)])"
   ]
  },
  {
   "cell_type": "code",
   "execution_count": null,
   "id": "6d282a96",
   "metadata": {
    "vscode": {
     "languageId": "plaintext"
    }
   },
   "outputs": [],
   "source": [
    "plot3d(f(x,y), (x,-2,2), (y,-2,2), color='green', aspect_ratio=[1,1,2], plot_points=300)"
   ]
  }
 ],
 "metadata": {
  "kernelspec": {
   "display_name": "SageMath 10.5",
   "language": "sage",
   "name": "SageMath-10.5"
  },
  "language_info": {
   "codemirror_mode": {
    "name": "ipython",
    "version": 3
   },
   "file_extension": ".py",
   "mimetype": "text/x-python",
   "name": "python",
   "nbconvert_exporter": "python",
   "pygments_lexer": "ipython3",
   "version": "3.12.5"
  }
 },
 "nbformat": 4,
 "nbformat_minor": 5
}
